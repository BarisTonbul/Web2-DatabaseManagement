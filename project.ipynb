{
 "metadata": {
  "language_info": {
   "codemirror_mode": {
    "name": "ipython",
    "version": 3
   },
   "file_extension": ".py",
   "mimetype": "text/x-python",
   "name": "python",
   "nbconvert_exporter": "python",
   "pygments_lexer": "ipython3",
   "version": "3.9.0-final"
  },
  "orig_nbformat": 2,
  "kernelspec": {
   "name": "python3",
   "display_name": "Python 3.9.0 64-bit",
   "metadata": {
    "interpreter": {
     "hash": "ac59ebe37160ed0dfa835113d9b8498d9f09ceb179beaac4002f036b9467c963"
    }
   }
  }
 },
 "nbformat": 4,
 "nbformat_minor": 2,
 "cells": [
  {
   "cell_type": "code",
   "execution_count": 37,
   "metadata": {},
   "outputs": [],
   "source": [
    "#PRINT FUNCTION\n",
    "def printResults(records):\n",
    "    print('\\t'.join([str(r).ljust(15) for r in records[0].keys()]))\n",
    "    for record in records:\n",
    "        print('\\t'.join([str(r).ljust(15) for r in record.values()]))"
   ]
  },
  {
   "cell_type": "code",
   "execution_count": 38,
   "metadata": {},
   "outputs": [],
   "source": [
    "#CONNECTING SQL SERVER\n",
    "import pymysql.cursors\n",
    "connection = pymysql.connect(host='localhost',\n",
    "                             user='root',\n",
    "                             password='',\n",
    "                             cursorclass=pymysql.cursors.DictCursor)"
   ]
  },
  {
   "cell_type": "code",
   "execution_count": 39,
   "metadata": {},
   "outputs": [],
   "source": [
    "#CREATE AND USE COMMAND FOR SPORTCLUB DATABASE\n",
    "with connection.cursor() as cursor:\n",
    "    cursor.execute(\"drop database if exists SportClub\")\n",
    "    cursor.execute(\"create database SportClub\")\n",
    "    cursor.execute(\"use SportClub\")"
   ]
  },
  {
   "cell_type": "code",
   "execution_count": 40,
   "metadata": {},
   "outputs": [],
   "source": [
    "#CREATING TABLES\n",
    "with connection.cursor() as cursor:\n",
    "    #CUSTOMER TABLE\n",
    "    cursor.execute(\"create table customer(\"+\n",
    "                   \"c_id int not null,\"+\n",
    "                   \"c_name varchar(20),\"+\n",
    "                   \"c_gender varchar(10),\"+\n",
    "                   \"c_age int,\"+\n",
    "                   \"primary key (c_id))\")\n",
    "    #GYM TABLE\n",
    "    cursor.execute(\"create table gym(\"+\n",
    "                   \"g_id int not null,\"+\n",
    "                   \"g_name varchar(20),\"+\n",
    "                   \"primary key (g_id) )\")        \n",
    "    #PERSONAL TRAINER\n",
    "    cursor.execute(\"create table personal_trainer(\"+\n",
    "                   \"pt_id int not null,\"+\n",
    "                   \"pt_name varchar (20),\"+\n",
    "                   \"pt_age int,\"+\n",
    "                   \"primary key(pt_id))\")\n",
    "    #SUBSCRIBE TABLE\n",
    "    cursor.execute(\"create table subscribe(\"+\n",
    "                   \"c_id int not null,\"+\n",
    "                   \"g_id int not null,\"+\n",
    "                   \"s_start_date date,\"+\n",
    "                   \"s_end_date date,\"+\n",
    "                   ##i use this structure for deleting all c_id element from another tables at the same time.\n",
    "                   \"constraint foreign key (c_id) references customer(c_id) on delete cascade,\"+\n",
    "                   \"constraint foreign key (g_id) references gym(g_id) on delete cascade)\")\n",
    "    #WORKS TABLE \n",
    "    cursor.execute(\"create table works(\"+\n",
    "                   \"pt_id int not null,\"+\n",
    "                   \"g_id int not null,\"+\n",
    "                   \"constraint foreign key (pt_id) references personal_trainer(pt_id) on delete cascade,\"+\n",
    "                   \"constraint foreign key (g_id) references gym(g_id) on delete cascade)\")\n",
    "                   #\"constraint FK_PTworks foreign key (pt_id) references personal_trainer(pt_id) on delete cascade,\"+\n",
    "connection.commit()"
   ]
  },
  {
   "cell_type": "code",
   "execution_count": 41,
   "metadata": {},
   "outputs": [],
   "source": [
    "#customer values USING ARRAYS  1st way\n",
    "customers=[(1,'baris','male',22),\n",
    "           (2,'kemal','male',25),\n",
    "           (3,'arda','male',15),\n",
    "           (4,'gamze','female',54),\n",
    "           (5,'isil','female',46),\n",
    "           (6,'nur','female',37),\n",
    "           (7,'aleyna','female',62),\n",
    "           (8,'berk','male',23),\n",
    "           (9,'begum','female',64),\n",
    "           (10,'begum','female',44),\n",
    "           (11,'sadi','male',53),\n",
    "           (12,'mert','male',27),\n",
    "           (13,'arda','male',39),\n",
    "           (14,'nisa','female',49),\n",
    "           (15,'acun','male',25),\n",
    "           (16,'cem','male',75),\n",
    "           (17,'basak','female',32),\n",
    "           (18,'kerem','male',38)]\n",
    "with connection.cursor() as cursor:\n",
    "    for i in range (len(customers)):\n",
    "        cursor.execute(f\"insert into customer(c_id, c_name, c_gender,c_age) values{customers[i]}\")\n",
    "connection.commit()\n",
    "#gym values USING ARRAYS \n",
    "gym=[(1,'Nisantasi'),\n",
    "     (2,'Levent'),\n",
    "     (3,'Hadimkoy')]\n",
    "with connection.cursor() as cursor:\n",
    "    for i in range (len(gym)):\n",
    "        cursor.execute(f\"insert into gym(g_id, g_name) values{gym[i]}\")\n",
    "connection.commit()\n",
    "#personal trainer values USING ARRAYS  \n",
    "personal_trainers=[(1,'omer',25),\n",
    "                   (2,'carolin',24),\n",
    "                   (3,'mark',22),\n",
    "                   (4,'mert',32),\n",
    "                   (5,'oyku',18),\n",
    "                   (6,'yagmur',24),\n",
    "                   (7,'umut',38),\n",
    "                   (8,'polat',40),\n",
    "                   (9,'adnan',48)]\n",
    "with connection.cursor() as cursor:\n",
    "    for i in range (len(personal_trainers)):\n",
    "        cursor.execute(f\"insert into personal_trainer(pt_id, pt_name,pt_age) values{personal_trainers[i]}\")\n",
    "connection.commit()\n",
    "#subscribe  values USING ARRAYS  1st way\n",
    "subscribe=[(1,1,'2019-01-05','2020-01-05'),\n",
    "           (1,2,'2019-06-10','2019-12-10'),\n",
    "           (2,3,'2019-04-15','2019-07-15'),\n",
    "           (3,3,'2019-04-15','2019-07-15'),\n",
    "           (4,1,'2020-01-05','2021-01-05'),\n",
    "           (5,2,'2020-10-25','2021-04-25'),\n",
    "           (6,3,'2020-3-11','2021-6-11'),\n",
    "           (7,1,'2020-04-05','2020-07-05'),\n",
    "           (8,2,'2020-12-23','2021-12-23'),\n",
    "           (9,3,'2020-12-05','2022-12-05'),\n",
    "           (10,1,'2020-12-13','2023-12-13'),\n",
    "           (11,2,'2020-09-10','2023-09-10'),\n",
    "           (12,3,'2019-01-05','2024-01-05'),\n",
    "           (13,1,'2018-04-12','2021-03-12'),\n",
    "           (14,2,'2019-03-06','2019-03-06'),\n",
    "           (15,3,'2019-09-20','2020-09-20'),\n",
    "           (16,1,'2018-01-01','2019-01-01'),\n",
    "           (17,2,'2020-01-20','2020-02-29'),\n",
    "           (18,3,'2020-04-12','2020-10-12')]\n",
    "with connection.cursor() as cursor:\n",
    "    for i in range (len(subscribe)):\n",
    "        cursor.execute(f\"insert into subscribe(c_id, g_id,s_start_date,s_end_date) values{subscribe[i]}\")\n",
    "#works values USING ARRAYS  \n",
    "works=[(1,1),\n",
    "       (2,2),\n",
    "       (3,3),\n",
    "       (4,1),\n",
    "       (5,2),\n",
    "       (6,3),\n",
    "       (7,1),\n",
    "       (8,2),\n",
    "       (9,3),]\n",
    "with connection.cursor() as cursor:\n",
    "    for i in range (len(works)):\n",
    "        cursor.execute(f\"insert into works(pt_id, g_id) values{works[i]}\")\n",
    "connection.commit()"
   ]
  },
  {
   "cell_type": "code",
   "execution_count": 42,
   "metadata": {},
   "outputs": [
    {
     "output_type": "stream",
     "name": "stdout",
     "text": [
      "c_id           \tc_name         \tc_gender       \tc_age          \n1              \tbaris          \tmale           \t22             \n2              \tkemal          \tmale           \t25             \n3              \tarda           \tmale           \t15             \n4              \tgamze          \tfemale         \t54             \n5              \tisil           \tfemale         \t46             \n6              \tnur            \tfemale         \t37             \n7              \taleyna         \tfemale         \t62             \n8              \tberk           \tmale           \t23             \n9              \tbegum          \tfemale         \t64             \n10             \tbegum          \tfemale         \t44             \n11             \tsadi           \tmale           \t53             \n12             \tmert           \tmale           \t27             \n13             \tarda           \tmale           \t39             \n14             \tnisa           \tfemale         \t49             \n15             \tacun           \tmale           \t25             \n16             \tcem            \tmale           \t75             \n17             \tbasak          \tfemale         \t32             \n18             \tkerem          \tmale           \t38             \n----------------------------------------------------------------------------------------------\ng_id           \tg_name         \n1              \tNisantasi      \n2              \tLevent         \n3              \tHadimkoy       \n----------------------------------------------------------------------------------------------\npt_id          \tpt_name        \tpt_age         \n1              \tomer           \t25             \n2              \tcarolin        \t24             \n3              \tmark           \t22             \n4              \tmert           \t32             \n5              \toyku           \t18             \n6              \tyagmur         \t24             \n7              \tumut           \t38             \n8              \tpolat          \t40             \n9              \tadnan          \t48             \n----------------------------------------------------------------------------------------------\nc_id           \tg_id           \ts_start_date   \ts_end_date     \n1              \t1              \t2019-01-05     \t2020-01-05     \n1              \t2              \t2019-06-10     \t2019-12-10     \n2              \t3              \t2019-04-15     \t2019-07-15     \n3              \t3              \t2019-04-15     \t2019-07-15     \n4              \t1              \t2020-01-05     \t2021-01-05     \n5              \t2              \t2020-10-25     \t2021-04-25     \n6              \t3              \t2020-03-11     \t2021-06-11     \n7              \t1              \t2020-04-05     \t2020-07-05     \n8              \t2              \t2020-12-23     \t2021-12-23     \n9              \t3              \t2020-12-05     \t2022-12-05     \n10             \t1              \t2020-12-13     \t2023-12-13     \n11             \t2              \t2020-09-10     \t2023-09-10     \n12             \t3              \t2019-01-05     \t2024-01-05     \n13             \t1              \t2018-04-12     \t2021-03-12     \n14             \t2              \t2019-03-06     \t2019-03-06     \n15             \t3              \t2019-09-20     \t2020-09-20     \n16             \t1              \t2018-01-01     \t2019-01-01     \n17             \t2              \t2020-01-20     \t2020-02-29     \n18             \t3              \t2020-04-12     \t2020-10-12     \n----------------------------------------------------------------------------------------------\npt_id          \tg_id           \n1              \t1              \n2              \t2              \n3              \t3              \n4              \t1              \n5              \t2              \n6              \t3              \n7              \t1              \n8              \t2              \n9              \t3              \n"
     ]
    }
   ],
   "source": [
    "#printing all values\n",
    "with connection.cursor() as cursor:\n",
    "    cursor.execute(\"select * from customer\")\n",
    "    result=cursor.fetchall()\n",
    "printResults(result)\n",
    "print(\"----------------------------------------------------------------------------------------------\")\n",
    "with connection.cursor() as cursor:\n",
    "    cursor.execute(\"select * from gym\")\n",
    "    result=cursor.fetchall()\n",
    "printResults(result)\n",
    "print(\"----------------------------------------------------------------------------------------------\")\n",
    "with connection.cursor() as cursor:\n",
    "    cursor.execute(\"select * from personal_trainer\")\n",
    "    result=cursor.fetchall()\n",
    "printResults(result)\n",
    "print(\"----------------------------------------------------------------------------------------------\")\n",
    "with connection.cursor() as cursor:\n",
    "    cursor.execute(\"select * from subscribe\")\n",
    "    result=cursor.fetchall()\n",
    "printResults(result)\n",
    "print(\"----------------------------------------------------------------------------------------------\")\n",
    "with connection.cursor() as cursor:\n",
    "    cursor.execute(\"select * from works\")\n",
    "    result=cursor.fetchall()\n",
    "printResults(result)"
   ]
  },
  {
   "cell_type": "code",
   "execution_count": 43,
   "metadata": {},
   "outputs": [],
   "source": [
    "with connection.cursor() as cursor:\n",
    "    cursor.execute(\"select personal_trainer.*,works.g_id from personal_trainer inner join works on personal_trainer.pt_id=works.pt_id\")\n",
    "    result=cursor.fetchall()\n",
    "#print(list(result[0].keys())[0] )##IT TAKES DICTIONARY HEADLINES BUT IT MUST BE DICT"
   ]
  },
  {
   "source": [
    "CUSTOMER COMPLEX "
   ],
   "cell_type": "markdown",
   "metadata": {}
  },
  {
   "cell_type": "code",
   "execution_count": 44,
   "metadata": {},
   "outputs": [
    {
     "output_type": "stream",
     "name": "stdout",
     "text": [
      "c_id           \tc_name         \tc_gender       \tc_age          \tg_id           \n1              \tbaris          \tmale           \t22             \t1              \n1              \tbaris          \tmale           \t22             \t2              \n2              \tkemal          \tmale           \t25             \t3              \n3              \tarda           \tmale           \t15             \t3              \n4              \tgamze          \tfemale         \t54             \t1              \n5              \tisil           \tfemale         \t46             \t2              \n6              \tnur            \tfemale         \t37             \t3              \n7              \taleyna         \tfemale         \t62             \t1              \n8              \tberk           \tmale           \t23             \t2              \n9              \tbegum          \tfemale         \t64             \t3              \n10             \tbegum          \tfemale         \t44             \t1              \n11             \tsadi           \tmale           \t53             \t2              \n12             \tmert           \tmale           \t27             \t3              \n13             \tarda           \tmale           \t39             \t1              \n14             \tnisa           \tfemale         \t49             \t2              \n15             \tacun           \tmale           \t25             \t3              \n16             \tcem            \tmale           \t75             \t1              \n17             \tbasak          \tfemale         \t32             \t2              \n18             \tkerem          \tmale           \t38             \t3              \n"
     ]
    }
   ],
   "source": [
    "##CUSTOMER AND SUBSCRIBE TABLE INNER JOIN\n",
    "with connection.cursor() as cursor:\n",
    "    cursor.execute(\"select customer.*,subscribe.g_id from customer inner join subscribe on customer.c_id=subscribe.c_id\")\n",
    "    result=cursor.fetchall()\n",
    "printResults(result)"
   ]
  },
  {
   "cell_type": "code",
   "execution_count": 45,
   "metadata": {},
   "outputs": [
    {
     "output_type": "stream",
     "name": "stdout",
     "text": [
      "pt_name        \nomer           \nmert           \numut           \ncarolin        \noyku           \npolat          \n"
     ]
    }
   ],
   "source": [
    "##WE TAKE PERSONAL TRAINER NAMES WHO WORKS WITH SELECTED CUSTOMER BY ENTERING CUSTOMER ID \n",
    "with connection.cursor() as cursor:\n",
    "    cursor.execute(\"select pt_name  from personal_trainer where pt_id=ANY(select pt_id from works where g_id=ANY (select g_id from subscribe where c_id =1))\")\n",
    "    result=cursor.fetchall()\n",
    "printResults(result)"
   ]
  },
  {
   "source": [
    "GYM COMPLEX"
   ],
   "cell_type": "markdown",
   "metadata": {}
  },
  {
   "cell_type": "code",
   "execution_count": 46,
   "metadata": {},
   "outputs": [
    {
     "output_type": "stream",
     "name": "stdout",
     "text": [
      "g_id           \tg_name         \tpt_id          \n1              \tNisantasi      \t1              \n2              \tLevent         \t2              \n3              \tHadimkoy       \t3              \n1              \tNisantasi      \t4              \n2              \tLevent         \t5              \n3              \tHadimkoy       \t6              \n1              \tNisantasi      \t7              \n2              \tLevent         \t8              \n3              \tHadimkoy       \t9              \n"
     ]
    }
   ],
   "source": [
    "##GYM AND WORKS TABLE INNER JOIN\n",
    "with connection.cursor() as cursor:\n",
    "    cursor.execute(\"select gym.*,works.pt_id from gym inner join works on gym.g_id=works.g_id\")\n",
    "    result=cursor.fetchall()\n",
    "printResults(result)"
   ]
  },
  {
   "cell_type": "code",
   "execution_count": 47,
   "metadata": {},
   "outputs": [
    {
     "output_type": "stream",
     "name": "stdout",
     "text": [
      "Oldest_member  \n53             \n"
     ]
    }
   ],
   "source": [
    "##BY INSERTING GYM ID WE GET THE OLDEST MEMBER'S AGE\n",
    "with connection.cursor() as cursor:\n",
    "    cursor.execute(\"select max(c_age) as Oldest_member from customer where c_id=ANY (select c_id from subscribe where g_id=2)\")\n",
    "    result=cursor.fetchall()\n",
    "printResults(result)"
   ]
  },
  {
   "source": [
    "PERSONAL TRAINER COMPLEX"
   ],
   "cell_type": "markdown",
   "metadata": {}
  },
  {
   "cell_type": "code",
   "execution_count": 48,
   "metadata": {},
   "outputs": [
    {
     "output_type": "stream",
     "name": "stdout",
     "text": [
      "pt_id          \tpt_name        \tpt_age         \tg_id           \n1              \tomer           \t25             \t1              \n2              \tcarolin        \t24             \t2              \n3              \tmark           \t22             \t3              \n4              \tmert           \t32             \t1              \n5              \toyku           \t18             \t2              \n6              \tyagmur         \t24             \t3              \n7              \tumut           \t38             \t1              \n8              \tpolat          \t40             \t2              \n9              \tadnan          \t48             \t3              \n"
     ]
    }
   ],
   "source": [
    "##PERSONAL TRAINERS AND WORKS TABLE INNER JOIN\n",
    "with connection.cursor() as cursor:\n",
    "    cursor.execute(\"select personal_trainer.*,works.g_id from personal_trainer inner join works on personal_trainer.pt_id=works.pt_id\")\n",
    "    result=cursor.fetchall()\n",
    "printResults(result)"
   ]
  },
  {
   "cell_type": "code",
   "execution_count": 49,
   "metadata": {},
   "outputs": [
    {
     "output_type": "stream",
     "name": "stdout",
     "text": [
      "avg(c_age)     \n37.5000        \n"
     ]
    }
   ],
   "source": [
    "##AVERAGE CUSTOMER AGES SELECTING BY PT_ID\n",
    "with connection.cursor() as cursor:\n",
    "    cursor.execute(\"select avg(c_age) from customer where c_id = ANY (select c_id from subscribe where g_id=ANY(select g_id from works where pt_id =2))\")\n",
    "    result=cursor.fetchall()\n",
    "printResults(result)"
   ]
  },
  {
   "source": [
    "SUBSCRIBE COMPLEX"
   ],
   "cell_type": "markdown",
   "metadata": {}
  },
  {
   "cell_type": "code",
   "execution_count": 50,
   "metadata": {},
   "outputs": [
    {
     "output_type": "stream",
     "name": "stdout",
     "text": [
      "c_id           \tg_id           \ts_start_date   \ts_end_date     \tg_name         \n1              \t1              \t2019-01-05     \t2020-01-05     \tNisantasi      \n1              \t2              \t2019-06-10     \t2019-12-10     \tLevent         \n2              \t3              \t2019-04-15     \t2019-07-15     \tHadimkoy       \n3              \t3              \t2019-04-15     \t2019-07-15     \tHadimkoy       \n4              \t1              \t2020-01-05     \t2021-01-05     \tNisantasi      \n5              \t2              \t2020-10-25     \t2021-04-25     \tLevent         \n6              \t3              \t2020-03-11     \t2021-06-11     \tHadimkoy       \n7              \t1              \t2020-04-05     \t2020-07-05     \tNisantasi      \n8              \t2              \t2020-12-23     \t2021-12-23     \tLevent         \n9              \t3              \t2020-12-05     \t2022-12-05     \tHadimkoy       \n10             \t1              \t2020-12-13     \t2023-12-13     \tNisantasi      \n11             \t2              \t2020-09-10     \t2023-09-10     \tLevent         \n12             \t3              \t2019-01-05     \t2024-01-05     \tHadimkoy       \n13             \t1              \t2018-04-12     \t2021-03-12     \tNisantasi      \n14             \t2              \t2019-03-06     \t2019-03-06     \tLevent         \n15             \t3              \t2019-09-20     \t2020-09-20     \tHadimkoy       \n16             \t1              \t2018-01-01     \t2019-01-01     \tNisantasi      \n17             \t2              \t2020-01-20     \t2020-02-29     \tLevent         \n18             \t3              \t2020-04-12     \t2020-10-12     \tHadimkoy       \n"
     ]
    }
   ],
   "source": [
    "##SUBSCRIBE AND  GYM INNER JOIN\n",
    "with connection.cursor() as cursor:\n",
    "    cursor.execute(\"select subscribe.*,gym.g_name from subscribe inner join gym on subscribe.g_id=gym.g_id order by c_id ASC\")\n",
    "    result=cursor.fetchall()\n",
    "printResults(result)"
   ]
  },
  {
   "cell_type": "code",
   "execution_count": 51,
   "metadata": {},
   "outputs": [
    {
     "output_type": "stream",
     "name": "stdout",
     "text": [
      "c_id           \tg_id           \ts_start_date   \ts_end_date     \n1              \t1              \t2019-01-05     \t2020-01-05     \n10             \t1              \t2020-12-13     \t2023-12-13     \n7              \t1              \t2020-04-05     \t2020-07-05     \n13             \t1              \t2018-04-12     \t2021-03-12     \n4              \t1              \t2020-01-05     \t2021-01-05     \n16             \t1              \t2018-01-01     \t2019-01-01     \n5              \t2              \t2020-10-25     \t2021-04-25     \n17             \t2              \t2020-01-20     \t2020-02-29     \n8              \t2              \t2020-12-23     \t2021-12-23     \n14             \t2              \t2019-03-06     \t2019-03-06     \n1              \t2              \t2019-06-10     \t2019-12-10     \n11             \t2              \t2020-09-10     \t2023-09-10     \n15             \t3              \t2019-09-20     \t2020-09-20     \n12             \t3              \t2019-01-05     \t2024-01-05     \n9              \t3              \t2020-12-05     \t2022-12-05     \n6              \t3              \t2020-03-11     \t2021-06-11     \n3              \t3              \t2019-04-15     \t2019-07-15     \n2              \t3              \t2019-04-15     \t2019-07-15     \n18             \t3              \t2020-04-12     \t2020-10-12     \n"
     ]
    }
   ],
   "source": [
    "##CHANGING ORDER - ORDERED BY GYM ID\n",
    "with connection.cursor() as cursor:\n",
    "    cursor.execute(\"select * from subscribe order by g_id asc\")\n",
    "    result=cursor.fetchall()\n",
    "printResults(result)"
   ]
  },
  {
   "source": [
    "WORKS COMPLEX"
   ],
   "cell_type": "markdown",
   "metadata": {}
  },
  {
   "cell_type": "code",
   "execution_count": 52,
   "metadata": {},
   "outputs": [
    {
     "output_type": "stream",
     "name": "stdout",
     "text": [
      "pt_id          \tg_id           \tpt_name        \n1              \t1              \tomer           \n2              \t2              \tcarolin        \n3              \t3              \tmark           \n4              \t1              \tmert           \n5              \t2              \toyku           \n6              \t3              \tyagmur         \n7              \t1              \tumut           \n8              \t2              \tpolat          \n9              \t3              \tadnan          \n"
     ]
    }
   ],
   "source": [
    "##GYM AND  PERSONAL TRAINER INNER JOIN\n",
    "with connection.cursor() as cursor:\n",
    "    cursor.execute(\"select works.*,personal_trainer.pt_name from works inner join personal_trainer on works.pt_id=personal_trainer.pt_id \")\n",
    "    result=cursor.fetchall()\n",
    "printResults(result)"
   ]
  },
  {
   "cell_type": "code",
   "execution_count": 53,
   "metadata": {},
   "outputs": [
    {
     "output_type": "stream",
     "name": "stdout",
     "text": [
      "pt_id          \tg_id           \n1              \t1              \n4              \t1              \n7              \t1              \n2              \t2              \n5              \t2              \n8              \t2              \n3              \t3              \n6              \t3              \n9              \t3              \n"
     ]
    }
   ],
   "source": [
    "##CHANGING ORDER - ORDERED BY GYM ID\n",
    "with connection.cursor() as cursor:\n",
    "    cursor.execute(\"select * from works order by g_id asc\")\n",
    "    result=cursor.fetchall()\n",
    "printResults(result)"
   ]
  }
 ]
}